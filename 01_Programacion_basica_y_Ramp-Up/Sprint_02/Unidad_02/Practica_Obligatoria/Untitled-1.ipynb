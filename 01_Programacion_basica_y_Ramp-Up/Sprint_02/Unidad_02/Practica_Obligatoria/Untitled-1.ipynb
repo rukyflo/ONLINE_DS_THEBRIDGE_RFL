{
 "cells": [
  {
   "cell_type": "code",
   "execution_count": 17,
   "metadata": {},
   "outputs": [
    {
     "name": "stdout",
     "output_type": "stream",
     "text": [
      "[1, 3, 2, 5]\n",
      "[1, 2, 3, 5]\n",
      "1\n"
     ]
    }
   ],
   "source": [
    "milista = [1,3,2,5]\n",
    "print(milista)\n",
    "milista.sort()\n",
    "print(milista)\n",
    "print(milista.count(1) and milista.count(2))"
   ]
  },
  {
   "cell_type": "code",
   "execution_count": 6,
   "metadata": {},
   "outputs": [
    {
     "name": "stdout",
     "output_type": "stream",
     "text": [
      "\n"
     ]
    }
   ],
   "source": [
    "try:\n",
    "    print(\"hola\"[-1:5:-2])\n",
    "except:\n",
    "    print(\"except\")"
   ]
  },
  {
   "cell_type": "code",
   "execution_count": 5,
   "metadata": {},
   "outputs": [
    {
     "data": {
      "text/plain": [
       "<function __main__.func()>"
      ]
     },
     "execution_count": 5,
     "metadata": {},
     "output_type": "execute_result"
    }
   ],
   "source": [
    "def func():\n",
    "    print(\"hola\")\n",
    "\n",
    "func"
   ]
  },
  {
   "cell_type": "code",
   "execution_count": 7,
   "metadata": {},
   "outputs": [
    {
     "name": "stdout",
     "output_type": "stream",
     "text": [
      "Alberto Daniel\n"
     ]
    }
   ],
   "source": [
    "nombre1 = \"Alberto\"\n",
    "nombre2 = nombre1.replace(\"Alberto\", \"Daniel\")\n",
    "print(nombre1, nombre2)"
   ]
  },
  {
   "cell_type": "code",
   "execution_count": 4,
   "metadata": {},
   "outputs": [
    {
     "ename": "ValueError",
     "evalue": "invalid literal for int() with base 10: 'edad'",
     "output_type": "error",
     "traceback": [
      "\u001b[1;31m---------------------------------------------------------------------------\u001b[0m",
      "\u001b[1;31mValueError\u001b[0m                                Traceback (most recent call last)",
      "Cell \u001b[1;32mIn[4], line 1\u001b[0m\n\u001b[1;32m----> 1\u001b[0m edad \u001b[38;5;241m=\u001b[39m \u001b[38;5;28;43mint\u001b[39;49m\u001b[43m(\u001b[49m\u001b[38;5;124;43m\"\u001b[39;49m\u001b[38;5;124;43medad\u001b[39;49m\u001b[38;5;124;43m\"\u001b[39;49m\u001b[43m)\u001b[49m\n",
      "\u001b[1;31mValueError\u001b[0m: invalid literal for int() with base 10: 'edad'"
     ]
    }
   ],
   "source": [
    "edad = int(\"edad\")"
   ]
  },
  {
   "cell_type": "code",
   "execution_count": 9,
   "metadata": {},
   "outputs": [
    {
     "name": "stdout",
     "output_type": "stream",
     "text": [
      "Contraseña correcta, bienvenido/a\n",
      "python\n"
     ]
    }
   ],
   "source": [
    "intentos = 3\n",
    "\n",
    "while(intentos != 0):\n",
    "    contrasena = input()\n",
    "    if contrasena == \"python\":\n",
    "        print(\"Contraseña correcta, bienvenido/a\")\n",
    "        break\n",
    "    else:\n",
    "        intentos -= 1\n",
    "        print(\"Le quedan\", intentos, \"intentos\")\n",
    "        \n",
    "if intentos == 0:\n",
    "    print(\"Su cuenta ha sido bloqueada por motivos de seguridad.\")\n",
    "    contrasena = None\n",
    "        \n",
    "print(contrasena)"
   ]
  },
  {
   "cell_type": "code",
   "execution_count": 10,
   "metadata": {},
   "outputs": [
    {
     "name": "stdout",
     "output_type": "stream",
     "text": [
      "Bienvenido a su calculadora, vamos a calcular!!\n",
      "Elija el primer número con el que va a operar:\n",
      "Elija el segundo número con el que va a operar\n",
      "Elija la operación que vaya a realizar (opciones: + o -):\n",
      "2\n"
     ]
    }
   ],
   "source": [
    "# Calculadora\n",
    "\n",
    "def saluda_usuario ():\n",
    "    return \"Bienvenido/a a su calculadora, vamos a sumar o restar!!\"\n",
    "\n",
    "def pide2numeros():\n",
    "    print(\"Elija el primer número con el que va a operar:\")\n",
    "    no_valido = True\n",
    "    while(no_valido):\n",
    "        primerNumero = input(\"Primer número\")\n",
    "        try:\n",
    "            int(primerNumero)\n",
    "            no_valido = False\n",
    "        except Exception as e:\n",
    "            print(\"Por favor, introduzca un número entero\")\n",
    "\n",
    "    print(\"Elija el segundo número con el que va a operar\")\n",
    "    no_valido = True\n",
    "    while(no_valido):\n",
    "        segundoNumero = input(\"segundo numero\")\n",
    "        try:\n",
    "            int(primerNumero)\n",
    "            no_valido = False\n",
    "        except Exception as e:\n",
    "            print(\"Por favor, introduzca un número entero\")\n",
    "            no_valido = False\n",
    "\n",
    "    return primerNumero, segundoNumero\n",
    "\n",
    "def elige_operación(operando, num1, num2):\n",
    "    if operando == \"+\":\n",
    "        return suma(num1, num2)      \n",
    "    elif operando == \"-\":\n",
    "        return resta(num1, num2)\n",
    "    else:\n",
    "        print(\"Esa operación de momento no está implementada, solo sabemos sumar o restar\")\n",
    "        operacion = input(\"operacion a realizar (solo + o -)\")\n",
    "        return elige_operación(operacion, num1, num2)\n",
    "    \n",
    "def suma (a, b):\n",
    "    return int(a) + int(b)\n",
    "\n",
    "def resta(a, b):\n",
    "    return int(a) - int(b)\n",
    "\n",
    "# Ejecución del programa\n",
    "print(saluda_usuario())\n",
    "numeros = pide2numeros()\n",
    "print(\"Elija la operación que vaya a realizar (opciones: + o -):\")\n",
    "operacion = input(\"Operación a realizar\")\n",
    "res = elige_operación(operacion, numeros[0], numeros[0])\n",
    "print(res)\n"
   ]
  },
  {
   "cell_type": "code",
   "execution_count": null,
   "metadata": {},
   "outputs": [],
   "source": []
  }
 ],
 "metadata": {
  "kernelspec": {
   "display_name": "Python 3",
   "language": "python",
   "name": "python3"
  },
  "language_info": {
   "codemirror_mode": {
    "name": "ipython",
    "version": 3
   },
   "file_extension": ".py",
   "mimetype": "text/x-python",
   "name": "python",
   "nbconvert_exporter": "python",
   "pygments_lexer": "ipython3",
   "version": "3.12.3"
  }
 },
 "nbformat": 4,
 "nbformat_minor": 2
}
