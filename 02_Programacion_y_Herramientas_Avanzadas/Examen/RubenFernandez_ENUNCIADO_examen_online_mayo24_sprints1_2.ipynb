{
 "cells": [
  {
   "cell_type": "markdown",
   "id": "1f1401c1-4dc9-4902-95bf-160715a42a25",
   "metadata": {},
   "source": [
    "# Prueba de Ramp-up"
   ]
  },
  {
   "cell_type": "markdown",
   "id": "1b34c670-a6dd-482d-9b04-5babee7be17a",
   "metadata": {},
   "source": [
    "Antes de comenzar, cambia el nombre del archivo notebook poniéndole delante tu nombre y primer apellido:\n",
    "\n",
    "* nombre_apellido_examen_online_sprint1_2.ipynb"
   ]
  },
  {
   "cell_type": "code",
   "execution_count": 3,
   "id": "c8d9a657-272c-425a-9ac4-ea59f479673c",
   "metadata": {},
   "outputs": [],
   "source": [
    "# Escribe tu nombre en la variable:\n",
    "nombre_y_apellidos = \"Ruben Fernandez Lorenzo\" "
   ]
  },
  {
   "cell_type": "code",
   "execution_count": 4,
   "id": "2e9f9af5-076c-44ec-9a80-95c0e99cdc58",
   "metadata": {},
   "outputs": [],
   "source": [
    "\"\"\"\n",
    "Criterios de corrección:\n",
    "\n",
    "ejecución (ausencia de errores y obtención de resultados)\n",
    "estructura del código\n",
    "uso correcto de variables\n",
    "manejo de tipo de variables\n",
    "asignaciones\n",
    "operaciones booleanas\n",
    "manejo lógico de flujos de control y bucles\n",
    "uso de colecciones\n",
    "uso de funciones\n",
    "\"\"\";\n",
    "\n",
    "# Ejemplo de como queremos ver el código para más de un intento:\n",
    "\n",
    "# intento 1\n",
    "#your code\n",
    "\n",
    "# intento 2\n",
    "#your code"
   ]
  },
  {
   "cell_type": "code",
   "execution_count": 5,
   "id": "bb16d0e3-3bb9-4f2b-944e-8fc35e628701",
   "metadata": {},
   "outputs": [],
   "source": [
    "# crea todas las celdas que necesites"
   ]
  },
  {
   "cell_type": "markdown",
   "id": "9e02b8f5-6f66-4e73-acfa-7f8c3977de2a",
   "metadata": {},
   "source": [
    "#### Notas y pruebas de apoyo para contestar las preguntas\n",
    "\n",
    "\n",
    "Cualquier código aunque no esté correcto nos dirá más de ti que no escribir nada. "
   ]
  },
  {
   "cell_type": "markdown",
   "id": "57d6b062-27f8-4377-b583-d662777b0bd7",
   "metadata": {},
   "source": [
    "__Debes subir tu examen resuelto a tu repo de GitHub cuando haya acabado este team challenge__"
   ]
  },
  {
   "cell_type": "markdown",
   "id": "062d81e8",
   "metadata": {},
   "source": [
    "#### Ejercicio 1\n",
    "\n",
    "Disponemos de una lista con información sobre varios empleados:\n",
    "\n",
    "    empleados = [[12345, \"Juan Rodríguez\", 53, [\"Director financiero\"], 2],[56789, \"Laura Pérez\", 41, [\"CEO\", \"Director\", \"Gerente\"], 2],[88354, \"Pedro Álvarez\", 26, [\"Asistente\",\"Gestor comercial\"], 3]]\n",
    "\n",
    "Respecto de cada empleado, la lista contiene cinco elementos: en el primero almacenamos su tfno, en el segundo su nombre, en el tercero su edad, en el cuarto los puestos que ha desempeñado en la empresa (en forma de lista) y en el quinto su código postal.\n",
    "\n",
    "1. Siguiendo la misma estructura, incluye un nuevo empleado en la última posición de la lista empleados.\n",
    "\n",
    "2. Mostrar por pantalla, sin uso de funciones (salvo print) ni bucles: \n",
    "\n",
    "    - El nombre y la edad del tercer empleado de la lista empleados.\n",
    "    - Los puestos desempeñados por Pedro Álvarez, ordenados de atras a adelante (es decir, de Gestor comercial a Asistente)\n",
    "    - Si el nuevo empleado que has añadido tiene más o igual a 60 años, muestra por pantalla los puestos que el nuevo empleado haya desempeñado en la empresa. En caso contrario, muestra los puestos desempeñados por Laura Pérez y Juan Rodriguez."
   ]
  },
  {
   "cell_type": "code",
   "execution_count": 26,
   "id": "ae316b4b",
   "metadata": {},
   "outputs": [
    {
     "name": "stdout",
     "output_type": "stream",
     "text": [
      "El último empleado de la lista es: Paula Fernández\n",
      "El tercer empleado se llama Pedro Álvarez y tiene 26 años\n",
      "Los puestos desempeñados por Pedro Álvarez invertidos, son: ['Gestor comercial', 'Asistente']\n",
      "Los puestos desempeñados por Laura Pérez son:  ['CEO', 'Director', 'Gerente']\n",
      "Los puestos desempeñados por Juan Rodríguez son:  ['Director financiero']\n"
     ]
    }
   ],
   "source": [
    "empleados = [[12345, \"Juan Rodríguez\", 53, [\"Director financiero\"], 2],[56789, \"Laura Pérez\", 41, [\"CEO\", \"Director\", \"Gerente\"], 2],[88354, \"Pedro Álvarez\", 26, [\"Asistente\",\"Gestor comercial\"], 3]]\n",
    "\n",
    "# Ejercicio 1\n",
    "empleados.append([11223, \"Paula Fernández\", 22, [\"Directora Marketing\", \"Responsable de ventas\"], 28])\n",
    "print(\"El último empleado de la lista es:\", empleados[-1][1]) # si queremos imprimir todas las características quitar [1] del final\n",
    "\n",
    "# Ejercicio 2.1\n",
    "print(f\"El tercer empleado se llama {empleados[2][1]} y tiene {empleados[2][2]} años\")\n",
    "\n",
    "# Ejercicio 2.2\n",
    "empleos = []\n",
    "for empleado in empleados:\n",
    "    if empleado[1] == \"Pedro Álvarez\":\n",
    "        for puesto in reversed(empleado[3]):\n",
    "            empleos.append(puesto)\n",
    "print(f\"Los puestos desempeñados por Pedro Álvarez invertidos, son:\",empleos)\n",
    "\n",
    "# Ejercicio 2.3\n",
    "if empleados[-1][2] >= 60:\n",
    "    print(f\"Los puestos que ha desempeñado {empleados[-1][1]} son {empleados[-1][3]}\")\n",
    "else:\n",
    "    print(f\"Los puestos desempeñados por Laura Pérez son: \", empleados[1][3])\n",
    "    print(f\"Los puestos desempeñados por Juan Rodríguez son: \", empleados[0][3])\n",
    "\n"
   ]
  },
  {
   "cell_type": "markdown",
   "id": "4da89624-0da3-4f91-aa5c-a084c5ee1b17",
   "metadata": {},
   "source": [
    "#### Ejercicio 2. \n",
    "\n",
    "Escribe un programa que te diga si una letra es una consonante o una vocal. Crea tu propia **FUNCIÓN**\n"
   ]
  },
  {
   "cell_type": "code",
   "execution_count": 62,
   "id": "c58bf610-92de-4a5a-a00d-652279ea33dd",
   "metadata": {},
   "outputs": [
    {
     "name": "stdout",
     "output_type": "stream",
     "text": [
      "Es una vocal\n",
      "Es una vocal\n",
      "Es una consonante\n",
      "Es una consonante\n",
      "Es una consonante\n"
     ]
    }
   ],
   "source": [
    "# Únicamente contemplo las tildes, no el resto de acentuaciones. \n",
    "# Si queremos implementarlo, habría que hacer más replace de todas las acentuaciones posibles en vocales.\n",
    "\n",
    "def estandarizar_letra(letra):\n",
    "    letra = letra.lower()\n",
    "    letra = letra.replace(\"á\", \"a\").replace(\"é\",\"e\").replace(\"í\", \"i\").replace(\"ó\", \"o\").replace(\"ú\", \"u\").replace(\" \", \"\")\n",
    "    return letra\n",
    "\n",
    "def consonante_o_vocal(letra):\n",
    "    letra = estandarizar_letra(letra)\n",
    "    if letra == \"a\" or letra == \"e\" or letra == \"i\" or letra == \"o\" or letra == \"u\":\n",
    "        print(\"Es una vocal\")\n",
    "    else:\n",
    "        print(\"Es una consonante\")\n",
    "\n",
    "# testing...\n",
    "consonante_o_vocal(\"Á \")\n",
    "consonante_o_vocal(\"é\")\n",
    "consonante_o_vocal(\"w \")\n",
    "consonante_o_vocal(\"F \")\n",
    "consonante_o_vocal(\"x\")"
   ]
  },
  {
   "cell_type": "markdown",
   "id": "52065a6c-3d4c-44c0-a10b-958506c481b3",
   "metadata": {},
   "source": [
    "#### Ejercicio 3. \n",
    "\n",
    "Escribe un programa que calcule la edad humana de un perro.\n",
    "Tienes que pedirle al usuario la edad del perro en años.\n",
    "Si el usuario introduce un número negativo, imprime que la cifra facilitada no tiene sentido. Si el perro tiene un año, son 14 años humanos. Si tiene 2 años, son 22 años humanos.\n",
    "A partir de los 2 años, el cálculo es el siguiente: a la edad del perro se le restan 2 años, el resultado se multiplica por 5 y, finalmente, se le suma 22.\n",
    "Usa una función sin argumentos de entrada ni de salida (muestra toda la información con print())"
   ]
  },
  {
   "cell_type": "code",
   "execution_count": 73,
   "id": "9c59c801-1fe1-4a6d-a000-f85ca738ed00",
   "metadata": {},
   "outputs": [
    {
     "name": "stdout",
     "output_type": "stream",
     "text": [
      "El perro tiene 182 años\n"
     ]
    }
   ],
   "source": [
    "try:\n",
    "    perro = int(input())\n",
    "    if perro <= 0:\n",
    "        print(\"La cifra introducida no tiene sentido\")\n",
    "    elif perro == 1:\n",
    "        print(\"El perro tiene 14 años humanos\")\n",
    "    elif perro == 2:\n",
    "        print(\"El perro tiene 22 años humanos\")\n",
    "    else:\n",
    "        print(\"El perro tiene\", ((perro-2)*5)+22, \"años\")\n",
    "\n",
    "except Exception as e:\n",
    "    print(\"Edad introducida no válida\", e)"
   ]
  },
  {
   "cell_type": "markdown",
   "id": "2991309f-4208-431a-900c-d9bc734bb936",
   "metadata": {},
   "source": [
    "#### Ejercicio 4. \n",
    "\n",
    "Escribe un programa que te diga si una frase es un pangrama. Un pangrama es una frase que contiene todas las letras del alfabeto.\n",
    "Puedes tener espacios en blanco, pero NO  tendrás signos de puntuación, a excepción de las tildes.\n",
    "\n",
    "Ejemplo de pangrama:\n",
    "\n",
    "Extraño pan de col y kiwi se quemó bajo fugaz vaho "
   ]
  },
  {
   "cell_type": "code",
   "execution_count": 113,
   "id": "9a349c1e-15ab-4253-97f8-2a07a263791d",
   "metadata": {},
   "outputs": [
    {
     "name": "stdout",
     "output_type": "stream",
     "text": [
      "Es un pangrama\n"
     ]
    }
   ],
   "source": [
    "from string import ascii_lowercase\n",
    "\n",
    "# Únicamente contemplo las tildes, no el resto de acentuaciones. \n",
    "# Si queremos implementarlo, habría que hacer más replace de todas las acentuaciones posibles en vocales.\n",
    "ascii_lowercase += \"ñ\"\n",
    "ascii_lowercase = list(ascii_lowercase)\n",
    "\n",
    "pangrama = \"Extraño pan de col y kiwi se quemó bajo fugaz vaho\"\n",
    "\n",
    "def es_pangrama(pangrama):\n",
    "    letras_abecedario = len(ascii_lowercase)\n",
    "    pangrama_junto = estandarizar_letra(pangrama)\n",
    "    for letra in pangrama_junto:\n",
    "        if letra in ascii_lowercase:\n",
    "            ascii_lowercase.remove(letra)  \n",
    "\n",
    "    if len(ascii_lowercase) == 0:\n",
    "        print(\"Es un pangrama\")\n",
    "    else:\n",
    "\n",
    "        print(\"No es un pangrama, debería de incluir la/s letra/s\", ascii_lowercase)\n",
    "\n",
    "# testing...\n",
    "es_pangrama(pangrama)"
   ]
  },
  {
   "cell_type": "markdown",
   "id": "3dbb76e0-79b2-45e8-9034-58ee9cbd82bb",
   "metadata": {},
   "source": [
    "#### Ejercicio 5. \n",
    "\n",
    "Escribe un programa que use diccionarios para traducir palabras entre varios idiomas.\n",
    "Deberás pedirle al usuario una palabra por teclado, ver si está en tu diccionario. En caso de que esté, deberás mostrar la traducción de esa palabra.\n",
    "\n",
    "Ejemplo de diccionario:\n",
    "\n",
    "```python\n",
    "{\"file\": \"Fichier\", \"new\": \"Nouveau\", \"open\": \"Ouvrir\", \"save\": \"Enregistrer\", \"save as\": \"Enregistrer sous\", \"print preview\": \"Apercu avant impressioner\", \"print\": \"Imprimer\", \"close\": \"Fermer\", \"exit\": \"Quitter\"}"
   ]
  },
  {
   "cell_type": "code",
   "execution_count": 131,
   "id": "88236123-e8ac-45da-87d0-134a88a690c1",
   "metadata": {},
   "outputs": [
    {
     "name": "stdout",
     "output_type": "stream",
     "text": [
      "Fichier\n",
      "La palabra 'some' no está en el diccionario\n"
     ]
    }
   ],
   "source": [
    "palabras_traductor = {\"file\": \"Fichier\", \"new\": \"Nouveau\", \"open\": \"Ouvrir\", \"save\": \"Enregistrer\", \"save as\": \"Enregistrer sous\", \n",
    "                      \"print preview\": \"Apercu avant impressioner\", \"print\": \"Imprimer\", \"close\": \"Fermer\", \"exit\": \"Quitter\"}\n",
    "\n",
    "\n",
    "def traductor(palabra):\n",
    "    if palabra in palabras_traductor.keys():\n",
    "        print(palabras_traductor.get(palabra))\n",
    "    else:\n",
    "        print(f\"La palabra '{palabra}' no está en el diccionario\")\n",
    "\n",
    "traductor(\"file\")\n",
    "traductor(\"some\")"
   ]
  },
  {
   "cell_type": "markdown",
   "id": "61967ca4-7e06-44b3-ad7b-adbc0e71671a",
   "metadata": {},
   "source": [
    "#### Ejercicio 6.\n",
    "\n",
    "Usando objetos modela un theremin (es un instrumento musical que se toca modificando el campo electromagnético, por si tenías curiosidad).\n",
    "Tendrá de atributos la marca, el modelo, el peso, la potencia y la batería.\n",
    "\n",
    "Todos los instrumentos se crean con un peso predeterminado de 500, una potencia de 50 y una batería de 200.\n",
    "\n",
    "Cuando se recarga la batería vale 200.\n",
    "\n",
    "Cuando se toca, se muestra por pantalla que está sonando y la batería disminuye 10 (no siendo nunca negativo).\n",
    "Si no hay batería, no puede sonar. Crea un instrumento, tócalo mientras quede batería, cárgalo y no lo vuelvas a tocar.\n"
   ]
  },
  {
   "cell_type": "code",
   "execution_count": 154,
   "id": "1a56dcfa",
   "metadata": {},
   "outputs": [],
   "source": [
    "class instrumento():\n",
    "    def __init__(self, marca, modelo):\n",
    "        self.marca = marca\n",
    "        self.modelo = modelo\n",
    "        self.peso = 500\n",
    "        self.potencia = 50\n",
    "        self.batería = 200\n",
    "\n",
    "    def tocar_instrumento(self):\n",
    "        print(f\"Tocando el {self.marca} {self.modelo} y suena muy bien, le queda {self.batería} de batería\")\n",
    "        self.batería -= 10\n",
    "    \n",
    "    def recargar(self):\n",
    "        self.batería = 200\n",
    "        print(f\"Batería cargada al {self.batería}\")\n"
   ]
  },
  {
   "cell_type": "code",
   "execution_count": 158,
   "id": "8082c8cd-03a9-478e-aa72-4ec1306e1bb2",
   "metadata": {},
   "outputs": [
    {
     "name": "stdout",
     "output_type": "stream",
     "text": [
      "Tocando el theremin 3000 y suena muy bien, le queda 200 de batería\n",
      "Tocando el theremin 3000 y suena muy bien, le queda 190 de batería\n",
      "Tocando el theremin 3000 y suena muy bien, le queda 180 de batería\n",
      "Tocando el theremin 3000 y suena muy bien, le queda 170 de batería\n",
      "Tocando el theremin 3000 y suena muy bien, le queda 160 de batería\n",
      "Tocando el theremin 3000 y suena muy bien, le queda 150 de batería\n",
      "Tocando el theremin 3000 y suena muy bien, le queda 140 de batería\n",
      "Tocando el theremin 3000 y suena muy bien, le queda 130 de batería\n",
      "Tocando el theremin 3000 y suena muy bien, le queda 120 de batería\n",
      "Tocando el theremin 3000 y suena muy bien, le queda 110 de batería\n",
      "Tocando el theremin 3000 y suena muy bien, le queda 100 de batería\n",
      "Tocando el theremin 3000 y suena muy bien, le queda 90 de batería\n",
      "Tocando el theremin 3000 y suena muy bien, le queda 80 de batería\n",
      "Tocando el theremin 3000 y suena muy bien, le queda 70 de batería\n",
      "Tocando el theremin 3000 y suena muy bien, le queda 60 de batería\n",
      "Tocando el theremin 3000 y suena muy bien, le queda 50 de batería\n",
      "Tocando el theremin 3000 y suena muy bien, le queda 40 de batería\n",
      "Tocando el theremin 3000 y suena muy bien, le queda 30 de batería\n",
      "Tocando el theremin 3000 y suena muy bien, le queda 20 de batería\n",
      "Batería cargada al 200\n"
     ]
    }
   ],
   "source": [
    "\n",
    "# usar bucle while \"mientras\" quede batería\n",
    "theremin = instrumento(\"theremin\", \"3000\")\n",
    "\n",
    "while theremin.batería > 10:\n",
    "    theremin.tocar_instrumento()\n",
    "\n",
    "#print(theremin.batería)\n",
    "theremin.recargar()\n",
    "#print(theremin.batería)\n"
   ]
  },
  {
   "cell_type": "markdown",
   "id": "30f773b5-a6da-4446-b36b-722b2ee57730",
   "metadata": {},
   "source": [
    "#### Ejercicio 7 EXTRA, NO PUNTÚA\n",
    "Una empresa usa dos listas  para guardar la información de sus empleados. Una lista guarda el nombre del empleado y la otra guarda su salario. Escribe un programa que cree esas dos listas originalmente vacías y que a través de un menú pueda hacer lo siguiente:\n",
    "    \n",
    "Inserta 1 para añadir un nuevo empleado y su salario\n",
    "\n",
    "Inserta 2 para imprimir los nombres y salarios de todos los empleados\n",
    "\n",
    "Inserta 3 para mostrar el número de empleados\n",
    "\n",
    "Inserta 4 para imprimir los nombres de los empleados con sueldos superiores a 400000\n",
    "\n",
    "Inserta 5 para subir un 5% los sueldos por debajo de 10000\n",
    "\n",
    "Inserta 6 para mostrar el total de todos los salarios\n",
    "\n",
    "Inserta 7 para salir del programa"
   ]
  },
  {
   "cell_type": "code",
   "execution_count": 176,
   "id": "67858e27-b7f5-4e05-bc50-3fca698ad22a",
   "metadata": {},
   "outputs": [],
   "source": [
    "# no me ha dado tiempo a acabarlo, pero al emparejarse los nombres correspondiente al salario de la misma posición el acceso a ambas listas era el mismo\n",
    "\n",
    "nombres_empleados = []\n",
    "salarios = []\n",
    "\n",
    "def menu():\n",
    "    print(\"\\tInserta 1 para añadir un nuevo empleado y su salario\\n\\\n",
    "        Inserta 2 para imprimir los nombres y salarios de todos los empleados\\n\\\n",
    "        Inserta 3 para mostrar el número de empleados\\n\\\n",
    "        Inserta 4 para imprimir los nombres de los empleados con sueldos superiores a 400000\\n\\\n",
    "        Inserta 5 para subir un 5% los sueldos por debajo de 10000\\n\\\n",
    "        Inserta 6 para mostrar el total de todos los salarios\\n\\\n",
    "        Inserta 7 para salir del programa\")\n",
    "\n",
    "def añadir_empleado():\n",
    "    empleado = input(\"Introduzca el nombre del empleado\")\n",
    "    nombres_empleados.append(empleado)\n",
    "    try:\n",
    "        salario = float(input(\"Introduzca su salario\"))\n",
    "        salarios.append(salario)\n",
    "    except Exception as e:\n",
    "        print(\"ERROR: El valor del salario tiene que ser un número (IMPORTANTE -> poner la cifra con puntos, no acepta comas)\")\n",
    "\n",
    "def imprimir_datos():\n",
    "    print(\"Nombres de los empleados:\", nombres_empleados)\n",
    "    print(\"Salarios de los empleados:\", salarios)\n",
    "\n",
    "def numero_empleados():\n",
    "    print(\"Hay un total de\", len(nombres_empleados), \"empleados\")\n",
    "\n",
    "\n",
    "def operador():\n",
    "    try:\n",
    "            opcion = int(input(\"Elija una opción\"))\n",
    "            if opcion == 1:\n",
    "                añadir_empleado()\n",
    "            elif opcion == 2:\n",
    "                imprimir_datos()\n",
    "            elif opcion == 3:\n",
    "                numero_empleados()\n",
    "\n",
    "    except Exception as e:\n",
    "        print(\"ERROR: el valor introducido no es válido, por favor:\")\n",
    "        menu()\n"
   ]
  },
  {
   "cell_type": "markdown",
   "id": "e33a0e21-476e-4103-b889-a6b3e76b99f3",
   "metadata": {},
   "source": [
    "\n",
    "####  Ejercicio 8, EXTRA, NO PUNTÚA.\n",
    "\n",
    "Escribe un programa que __USE RECURSIVIDAD__ para decidir cuál es la película de Pixar favorita de un usuario.\n",
    "El programa preguntará al usuario cuál de 2 películas es su favorita, y con esa favorita se le volverá a preguntar entre esa y otra película cuál es su favorita...y así hasta que el usuario haya decidido de entre todas cuál es su favorita.\n",
    "\n",
    "Pista: si no quieres cambiar una lista, usa copy() y tendrás una copia que es otro objeto\n",
    "\n"
   ]
  },
  {
   "cell_type": "code",
   "execution_count": 12,
   "id": "c9936fd4-6d29-4535-9f34-a6f289d18d8b",
   "metadata": {},
   "outputs": [
    {
     "name": "stdout",
     "output_type": "stream",
     "text": [
      "Si prefieres Toy Story marca 1, si prefieres Soul marca 2: 1\n",
      "Prefieres Toy Story\n",
      "Si prefieres Toy Story marca 1, si prefieres Up marca 2: 2\n",
      "Prefieres Up\n",
      "Si prefieres Up marca 1, si prefieres Coco marca 2: 2\n",
      "Prefieres Coco\n",
      "Si prefieres Coco marca 1, si prefieres Luca marca 2: 1\n",
      "Prefieres Coco\n",
      "Si prefieres Coco marca 1, si prefieres Monsters marca 2: 2\n",
      "Prefieres Monsters\n",
      "Si prefieres Monsters marca 1, si prefieres Inside Out marca 2: 1\n",
      "Prefieres Monsters\n",
      "Si prefieres Monsters marca 1, si prefieres WallE marca 2: 2\n",
      "Prefieres WallE\n",
      "Si prefieres WallE marca 1, si prefieres Buscando a Nemo marca 2: 2\n",
      "Prefieres Buscando a Nemo\n",
      "Si prefieres Buscando a Nemo marca 1, si prefieres Los increíbles marca 2: 1\n",
      "Prefieres Buscando a Nemo\n",
      "\n",
      "Prefieres finalmente Buscando a Nemo\n"
     ]
    }
   ],
   "source": [
    "\n",
    "\n",
    "            "
   ]
  },
  {
   "cell_type": "code",
   "execution_count": null,
   "id": "e0264a74-638f-4a82-95a0-cddee11253b7",
   "metadata": {},
   "outputs": [],
   "source": []
  },
  {
   "cell_type": "code",
   "execution_count": 1,
   "id": "10a7b881",
   "metadata": {},
   "outputs": [],
   "source": [
    "# FIN DEL EXAMEN\n",
    "\n"
   ]
  }
 ],
 "metadata": {
  "kernelspec": {
   "display_name": "Python 3 (ipykernel)",
   "language": "python",
   "name": "python3"
  },
  "language_info": {
   "codemirror_mode": {
    "name": "ipython",
    "version": 3
   },
   "file_extension": ".py",
   "mimetype": "text/x-python",
   "name": "python",
   "nbconvert_exporter": "python",
   "pygments_lexer": "ipython3",
   "version": "3.12.3"
  },
  "vscode": {
   "interpreter": {
    "hash": "252189e587d1e2aeba4a06e91fa71896c7a7f6e22e918b9407c7cde4ef2d5985"
   }
  }
 },
 "nbformat": 4,
 "nbformat_minor": 5
}
