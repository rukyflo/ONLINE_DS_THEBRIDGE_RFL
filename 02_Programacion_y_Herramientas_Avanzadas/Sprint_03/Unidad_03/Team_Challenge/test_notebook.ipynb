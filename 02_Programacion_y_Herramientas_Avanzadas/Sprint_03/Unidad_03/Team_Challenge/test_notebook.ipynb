{
 "cells": [
  {
   "cell_type": "code",
   "execution_count": 1,
   "metadata": {},
   "outputs": [],
   "source": [
    "import variables as vars"
   ]
  },
  {
   "cell_type": "code",
   "execution_count": 2,
   "metadata": {},
   "outputs": [],
   "source": [
    "def coloca_barco():    \n",
    "    for posiciones in vars.barcos.values(): \n",
    "        for posicion in posiciones:     \n",
    "            vars.mi_tablero[posicion] = \"X\"\n",
    "    return vars.mi_tablero\n",
    "\n",
    "#def disparar(): acordarse de quitar 1 vida cada vez que toques un barco\n",
    "#inventario de barcos con vidas. Las posiciones sin tocar que tengo en mi tablero"
   ]
  },
  {
   "cell_type": "code",
   "execution_count": 3,
   "metadata": {},
   "outputs": [
    {
     "data": {
      "text/plain": [
       "array([['X', 'X', 'X', 'X', ' ', ' ', ' ', ' ', ' ', ' '],\n",
       "       ['X', 'X', 'X', ' ', ' ', 'X', 'X', 'X', ' ', ' '],\n",
       "       ['X', 'X', ' ', ' ', ' ', 'X', 'X', ' ', 'X', 'X'],\n",
       "       ['X', ' ', 'X', ' ', 'X', ' ', 'X', ' ', ' ', ' '],\n",
       "       [' ', ' ', ' ', ' ', ' ', ' ', ' ', ' ', ' ', ' '],\n",
       "       [' ', ' ', ' ', ' ', ' ', ' ', ' ', ' ', ' ', ' '],\n",
       "       [' ', ' ', ' ', ' ', ' ', ' ', ' ', ' ', ' ', ' '],\n",
       "       [' ', ' ', ' ', ' ', ' ', ' ', ' ', ' ', ' ', ' '],\n",
       "       [' ', ' ', ' ', ' ', ' ', ' ', ' ', ' ', ' ', ' '],\n",
       "       [' ', ' ', ' ', ' ', ' ', ' ', ' ', ' ', ' ', ' ']], dtype='<U1')"
      ]
     },
     "execution_count": 3,
     "metadata": {},
     "output_type": "execute_result"
    }
   ],
   "source": [
    "coloca_barco()"
   ]
  },
  {
   "cell_type": "code",
   "execution_count": null,
   "metadata": {},
   "outputs": [],
   "source": [
    "def disparar(tablero, coordenada):\n",
    "    if tablero[coordenada] == \"O\":\n",
    "        tablero[coordenada] = \"X\"\n",
    "        print(\"Tocado\")\n",
    "    elif tablero[coordenada] == \"X\":\n",
    "        print(\"Agonia, deja de perder el tiempo, dispara a otro sitio\")\n",
    "    else:\n",
    "        tablero[coordenada] = \"-\"\n",
    "        print(\"Agua\")\n",
    "\n",
    "disparar(vars.tablero_maquina,(5,6))\n",
    "print(vars.mi_tablero)"
   ]
  }
 ],
 "metadata": {
  "kernelspec": {
   "display_name": "Python 3",
   "language": "python",
   "name": "python3"
  },
  "language_info": {
   "codemirror_mode": {
    "name": "ipython",
    "version": 3
   },
   "file_extension": ".py",
   "mimetype": "text/x-python",
   "name": "python",
   "nbconvert_exporter": "python",
   "pygments_lexer": "ipython3",
   "version": "3.12.3"
  }
 },
 "nbformat": 4,
 "nbformat_minor": 2
}
